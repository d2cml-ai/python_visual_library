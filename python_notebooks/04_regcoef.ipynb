{
 "cells": [
  {
   "cell_type": "code",
   "execution_count": 1,
   "id": "fc17939b-1d3f-4c64-9a2c-fcae5c13ec22",
   "metadata": {},
   "outputs": [],
   "source": [
    "import numpy as np, matplotlib.pyplot as plt, pandas as pd\n",
    "import seaborn as sns"
   ]
  },
  {
   "cell_type": "markdown",
   "id": "a08ea365-217d-465d-bce5-a8e145d97dd2",
   "metadata": {
    "jp-MarkdownHeadingCollapsed": true,
    "tags": []
   },
   "source": [
    "## Bin Dot"
   ]
  },
  {
   "cell_type": "markdown",
   "id": "2f4a2b4b-a6f9-4631-b0a8-9f8703e1c6b9",
   "metadata": {
    "jp-MarkdownHeadingCollapsed": true,
    "tags": []
   },
   "source": [
    "## Bin Dot (double)"
   ]
  },
  {
   "cell_type": "markdown",
   "id": "7efb67b2-031b-4f38-baf1-48874388e5c5",
   "metadata": {},
   "source": [
    "## Levels"
   ]
  },
  {
   "cell_type": "markdown",
   "id": "8e49980e-ec14-44dc-a1df-88843d2a8fb9",
   "metadata": {},
   "source": [
    "## Orientation"
   ]
  },
  {
   "cell_type": "markdown",
   "id": "1404370d-8c3c-4b6a-a424-e33e4fc49a89",
   "metadata": {},
   "source": [
    "## Point Range vertical"
   ]
  },
  {
   "cell_type": "markdown",
   "id": "bb86d30b-b096-4a30-bda1-7d00e8da0031",
   "metadata": {},
   "source": [
    "## Point Range Horizontal"
   ]
  },
  {
   "cell_type": "code",
   "execution_count": null,
   "id": "8dc87726-2ea6-4c4b-ae6d-5e150a8688bc",
   "metadata": {},
   "outputs": [],
   "source": []
  }
 ],
 "metadata": {
  "kernelspec": {
   "display_name": "Python 3 (ipykernel)",
   "language": "python",
   "name": "python3"
  },
  "language_info": {
   "codemirror_mode": {
    "name": "ipython",
    "version": 3
   },
   "file_extension": ".py",
   "mimetype": "text/x-python",
   "name": "python",
   "nbconvert_exporter": "python",
   "pygments_lexer": "ipython3",
   "version": "3.8.0"
  }
 },
 "nbformat": 4,
 "nbformat_minor": 5
}
