{
 "cells": [
  {
   "cell_type": "markdown",
   "id": "76cf4975",
   "metadata": {},
   "source": [
    "# Difference in differences"
   ]
  },
  {
   "cell_type": "code",
   "execution_count": 1,
   "id": "a93af1af",
   "metadata": {},
   "outputs": [],
   "source": [
    "# Install and load packages\n",
    "\n",
    "import pandas as pd\n",
    "import numpy as np\n",
    "import matplotlib.pyplot as plt\n",
    "import seaborn as sns\n",
    "import wbgapi as wb\n",
    "from math import log\n",
    "from linearmodels import PanelOLS\n",
    "import statsmodels.api as sm\n",
    "from linearmodels.panel import PooledOLS\n",
    "import pandas as pd\n",
    "import statsmodels.formula.api as sm\n",
    "import numpy as np\n",
    "import patsy\n",
    "from linearmodels.panel import PanelOLS as fe"
   ]
  },
  {
   "cell_type": "markdown",
   "id": "76cf4975",
   "metadata": {},
   "source": [
    "## 1"
   ]
  },
  {
   "cell_type": "code",
   "execution_count": 2,
   "id": "387de142",
   "metadata": {},
   "outputs": [],
   "source": [
    "data = pd.read_stata(\"https://github.com/worldbank/r-econ-visual-library/raw/master/Library/Data/evaluation.dta\")\n",
    "\n",
    "data[\"enrolled\"] = data[\"enrolled\"].astype(\"category\")\n",
    "data[\"enrolled\"] = data[\"enrolled\"].cat.rename_categories([\"Control\",\"Treatment\"])\n"
   ]
  },
  {
   "cell_type": "code",
   "execution_count": 3,
   "id": "6be3cd6d",
   "metadata": {},
   "outputs": [],
   "source": [
    "data2= (data\n",
    "       .groupby(['enrolled', 'round'])\n",
    "       .agg({'enrolled':'first', 'round':'first',\n",
    "             'health_expenditures': ['mean', 'std']\n",
    "            }))\n",
    "\n",
    "\n",
    "data2.columns = [\"_\".join(x) for x in data2.columns]\n",
    "\n",
    "data2=data2.reset_index(drop=True)"
   ]
  },
  {
   "cell_type": "code",
   "execution_count": 4,
   "id": "c602e0f5",
   "metadata": {},
   "outputs": [
    {
     "data": {
      "text/plain": [
       "<matplotlib.legend.Legend at 0x7ff9b74a0070>"
      ]
     },
     "execution_count": 4,
     "metadata": {},
     "output_type": "execute_result"
    },
    {
     "data": {
      "image/png": "[encoded data removed]",
      "text/plain": [
       "<Figure size 864x720 with 1 Axes>"
      ]
     },
     "metadata": {
      "needs_background": "light"
     },
     "output_type": "display_data"
    }
   ],
   "source": [
    "dfp = data2.pivot(index='round_first', columns='enrolled_first', values='health_expenditures_mean')\n",
    "yerr = data2.pivot(index='round_first', columns='enrolled_first', values='health_expenditures_std')\n",
    "\n",
    "\n",
    "dfp.plot(\n",
    "    figsize=(12, 10),\n",
    "    marker='.', \n",
    "    markersize=20, \n",
    "    title='',\n",
    "    xlabel='Before and After',\n",
    "    ylabel='Health expenditures (mean and 1SD error bar',\n",
    "    yerr = yerr,\n",
    "    xticks=data2['round_first'].drop_duplicates().sort_values().astype('int'))\n",
    "\n",
    "plt.legend(loc=\"upper left\")\n",
    "\n"
   ]
  },
  {
   "cell_type": "markdown",
   "id": "0fdcf7b3",
   "metadata": {},
   "source": [
    "## 2"
   ]
  },
  {
   "cell_type": "code",
   "execution_count": 5,
   "id": "f6a1857e",
   "metadata": {},
   "outputs": [],
   "source": [
    "data = pd.read_stata(\"https://github.com/worldbank/r-econ-visual-library/raw/master/Library/Data/autor-jole-2003.dta\")\n"
   ]
  },
  {
   "cell_type": "code",
   "execution_count": 6,
   "id": "405ac690",
   "metadata": {
    "scrolled": false
   },
   "outputs": [],
   "source": [
    "data2 = data[data['year'] >= 79.0]\n",
    "data3 = data2[data2['year'] <= 95.0]\n",
    "data4 = data3[data3['state'] != 98.0]\n"
   ]
  },
  {
   "cell_type": "code",
   "execution_count": 7,
   "id": "f3761f30",
   "metadata": {},
   "outputs": [],
   "source": [
    "data4['year'] = pd.to_numeric(data4['year'])\n",
    "data4[\"trend\"] = data4[\"year\"]-78\n",
    "\n",
    "data4[\"state_trend\"] = data4[\"state\"]/data4[\"trend\"]\n",
    "data4['annemp'] = pd.to_numeric(data4['annemp'])\n",
    "data4[\"state_year\"] = [(s,y) for s,y in zip(data4.state, data4.year)]"
   ]
  },
  {
   "cell_type": "code",
   "execution_count": 8,
   "id": "c2e2dff1",
   "metadata": {},
   "outputs": [
    {
     "name": "stderr",
     "output_type": "stream",
     "text": [
      "/var/folders/t0/bh8jstj91y5ctmcqzzd24zyc0000gn/T/ipykernel_19807/3613437251.py:7: MemoryWarning: Using low-memory algorithm to estimate two-way model. Explicitly set low_memory=True to silence this message.  Set low_memory=False to use the standard algorithm that creates dummy variables for the smaller of the number of entities or number of time periods.\n",
      "  fixed = fe(y, exog = x_data, entity_effects = True, time_effects = True, drop_absorbed=True).fit(cov_type = 'clustered', cluster_entity = True)\n"
     ]
    },
    {
     "ename": "ValueError",
     "evalue": "All columns in exog have been fully absorbed by the included effects. This model cannot be estimated.",
     "output_type": "error",
     "traceback": [
      "\u001b[0;31m---------------------------------------------------------------------------\u001b[0m",
      "\u001b[0;31mValueError\u001b[0m                                Traceback (most recent call last)",
      "\u001b[0;32m/var/folders/t0/bh8jstj91y5ctmcqzzd24zyc0000gn/T/ipykernel_19807/3613437251.py\u001b[0m in \u001b[0;36m<module>\u001b[0;34m\u001b[0m\n\u001b[1;32m      5\u001b[0m \u001b[0my\u001b[0m\u001b[0;34m,\u001b[0m \u001b[0mx_data\u001b[0m \u001b[0;34m=\u001b[0m \u001b[0mpatsy\u001b[0m\u001b[0;34m.\u001b[0m\u001b[0mdmatrices\u001b[0m\u001b[0;34m(\u001b[0m\u001b[0mformula\u001b[0m\u001b[0;34m,\u001b[0m \u001b[0mdata5_reset\u001b[0m\u001b[0;34m,\u001b[0m \u001b[0mreturn_type\u001b[0m \u001b[0;34m=\u001b[0m \u001b[0;34m'dataframe'\u001b[0m\u001b[0;34m)\u001b[0m\u001b[0;34m\u001b[0m\u001b[0;34m\u001b[0m\u001b[0m\n\u001b[1;32m      6\u001b[0m \u001b[0;34m\u001b[0m\u001b[0m\n\u001b[0;32m----> 7\u001b[0;31m \u001b[0mfixed\u001b[0m \u001b[0;34m=\u001b[0m \u001b[0mfe\u001b[0m\u001b[0;34m(\u001b[0m\u001b[0my\u001b[0m\u001b[0;34m,\u001b[0m \u001b[0mexog\u001b[0m \u001b[0;34m=\u001b[0m \u001b[0mx_data\u001b[0m\u001b[0;34m,\u001b[0m \u001b[0mentity_effects\u001b[0m \u001b[0;34m=\u001b[0m \u001b[0;32mTrue\u001b[0m\u001b[0;34m,\u001b[0m \u001b[0mtime_effects\u001b[0m \u001b[0;34m=\u001b[0m \u001b[0;32mTrue\u001b[0m\u001b[0;34m,\u001b[0m \u001b[0mdrop_absorbed\u001b[0m\u001b[0;34m=\u001b[0m\u001b[0;32mTrue\u001b[0m\u001b[0;34m)\u001b[0m\u001b[0;34m.\u001b[0m\u001b[0mfit\u001b[0m\u001b[0;34m(\u001b[0m\u001b[0mcov_type\u001b[0m \u001b[0;34m=\u001b[0m \u001b[0;34m'clustered'\u001b[0m\u001b[0;34m,\u001b[0m \u001b[0mcluster_entity\u001b[0m \u001b[0;34m=\u001b[0m \u001b[0;32mTrue\u001b[0m\u001b[0;34m)\u001b[0m\u001b[0;34m\u001b[0m\u001b[0;34m\u001b[0m\u001b[0m\n\u001b[0m\u001b[1;32m      8\u001b[0m \u001b[0mprint\u001b[0m\u001b[0;34m(\u001b[0m\u001b[0mfixed\u001b[0m\u001b[0;34m)\u001b[0m\u001b[0;34m\u001b[0m\u001b[0;34m\u001b[0m\u001b[0m\n",
      "\u001b[0;32m~/opt/anaconda3/lib/python3.9/site-packages/linearmodels/panel/model.py\u001b[0m in \u001b[0;36mfit\u001b[0;34m(self, use_lsdv, use_lsmr, low_memory, cov_type, debiased, auto_df, count_effects, **cov_config)\u001b[0m\n\u001b[1;32m   1827\u001b[0m                 \u001b[0mretain\u001b[0m \u001b[0;34m=\u001b[0m \u001b[0mnot_absorbed\u001b[0m\u001b[0;34m(\u001b[0m\u001b[0mx\u001b[0m\u001b[0;34m,\u001b[0m \u001b[0mself\u001b[0m\u001b[0;34m.\u001b[0m\u001b[0m_constant\u001b[0m\u001b[0;34m,\u001b[0m \u001b[0mself\u001b[0m\u001b[0;34m.\u001b[0m\u001b[0m_constant_index\u001b[0m\u001b[0;34m)\u001b[0m\u001b[0;34m\u001b[0m\u001b[0;34m\u001b[0m\u001b[0m\n\u001b[1;32m   1828\u001b[0m                 \u001b[0;32mif\u001b[0m \u001b[0;32mnot\u001b[0m \u001b[0mretain\u001b[0m\u001b[0;34m:\u001b[0m\u001b[0;34m\u001b[0m\u001b[0;34m\u001b[0m\u001b[0m\n\u001b[0;32m-> 1829\u001b[0;31m                     raise ValueError(\n\u001b[0m\u001b[1;32m   1830\u001b[0m                         \u001b[0;34m\"All columns in exog have been fully absorbed by the included\"\u001b[0m\u001b[0;34m\u001b[0m\u001b[0;34m\u001b[0m\u001b[0m\n\u001b[1;32m   1831\u001b[0m                         \u001b[0;34m\" effects. This model cannot be estimated.\"\u001b[0m\u001b[0;34m\u001b[0m\u001b[0;34m\u001b[0m\u001b[0m\n",
      "\u001b[0;31mValueError\u001b[0m: All columns in exog have been fully absorbed by the included effects. This model cannot be estimated."
     ]
    }
   ],
   "source": [
    "data5 = data4[['state', 'year','state_year', 'state_trend','annemp', 'lnths','admico_2', 'admico_1', 'admico0', 'admico1', 'admico2', 'admico3', 'mico4', 'admppa_2', 'admppa_1', 'admppa0', 'admppa1', 'admppa2', 'admppa3', 'mppa4','admgfa_2','admgfa_1', 'admgfa0','admgfa1', 'admgfa2','admgfa3', 'mgfa4', 'trend']]\n",
    "data5_reset=data5.set_index(['state_year', 'state_trend'])\n",
    "\n",
    "formula = 'lnths ~ np.log10(data5_reset.annemp) + admico_2 + admico_1 + admico0 + admico1 + admico2 + admico3 + mico4 + admppa_2 + admppa_1 + admppa0 + admppa1 + admppa2 + admppa3 + mppa4 + admgfa_2 + admgfa_1 + admgfa0 + admgfa1 + admgfa2 + admgfa3 + mgfa4 - 1'\n",
    "y, x_data = patsy.dmatrices(formula, data5_reset, return_type = 'dataframe')\n",
    "\n",
    "fixed = fe(y, exog = x_data, entity_effects = True, time_effects = True, drop_absorbed=True).fit(cov_type = 'clustered', cluster_entity = True)\n",
    "print(fixed)\n"
   ]
  }
 ],
 "metadata": {
  "kernelspec": {
   "display_name": "Python 3 (ipykernel)",
   "language": "python",
   "name": "python3"
  },
  "language_info": {
   "codemirror_mode": {
    "name": "ipython",
    "version": 3
   },
   "file_extension": ".py",
   "mimetype": "text/x-python",
   "name": "python",
   "nbconvert_exporter": "python",
   "pygments_lexer": "ipython3",
   "version": "3.9.7"
  }
 },
 "nbformat": 4,
 "nbformat_minor": 5
}
