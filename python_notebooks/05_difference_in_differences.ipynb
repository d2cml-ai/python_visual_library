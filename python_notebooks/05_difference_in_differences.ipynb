{
 "cells": [
  {
   "cell_type": "markdown",
   "id": "76cf4975",
   "metadata": {},
   "source": [
    "# Difference in differences"
   ]
  },
  {
   "cell_type": "code",
   "execution_count": 2,
   "id": "a93af1af",
   "metadata": {},
   "outputs": [],
   "source": [
    "# Install and load packages\n",
    "\n",
    "import pandas as pd\n",
    "import numpy as np\n",
    "import matplotlib.pyplot as plt\n",
    "import seaborn as sns\n",
    "import wbgapi as wb\n",
    "from math import log\n",
    "from linearmodels import PanelOLS\n",
    "import statsmodels.api as sm\n",
    "from linearmodels.panel import PooledOLS\n",
    "import pandas as pd\n",
    "import statsmodels.formula.api as sm\n",
    "import numpy as np\n",
    "import patsy\n",
    "from linearmodels.panel import PanelOLS as fe"
   ]
  },
  {
   "cell_type": "markdown",
   "id": "21c3315a",
   "metadata": {},
   "source": [
    "## 2 by 2"
   ]
  },
  {
   "cell_type": "code",
   "execution_count": 3,
   "id": "387de142",
   "metadata": {},
   "outputs": [],
   "source": [
    "data = pd.read_stata(\"https://github.com/worldbank/r-econ-visual-library/raw/master/Library/Data/evaluation.dta\")\n",
    "\n",
    "data[\"enrolled\"] = data[\"enrolled\"].astype(\"category\")\n",
    "data[\"enrolled\"] = data[\"enrolled\"].cat.rename_categories([\"Control\",\"Treatment\"])\n"
   ]
  },
  {
   "cell_type": "code",
   "execution_count": 4,
   "id": "6be3cd6d",
   "metadata": {},
   "outputs": [],
   "source": [
    "data2= (data\n",
    "       .groupby(['enrolled', 'round'])\n",
    "       .agg({'enrolled':'first', 'round':'first',\n",
    "             'health_expenditures': ['mean', 'std']\n",
    "            }))\n",
    "\n",
    "\n",
    "data2.columns = [\"_\".join(x) for x in data2.columns]\n",
    "\n",
    "data2=data2.reset_index(drop=True)"
   ]
  },
  {
   "cell_type": "code",
   "execution_count": 5,
   "id": "c602e0f5",
   "metadata": {},
   "outputs": [
    {
     "data": {
      "image/png": "[encoded data removed]",
      "text/plain": [
       "<Figure size 864x720 with 1 Axes>"
      ]
     },
     "metadata": {
      "needs_background": "light"
     },
     "output_type": "display_data"
    }
   ],
   "source": [
    "dfp = data2.pivot(index='round_first', columns='enrolled_first', values='health_expenditures_mean')\n",
    "yerr = data2.pivot(index='round_first', columns='enrolled_first', values='health_expenditures_std')\n",
    "\n",
    "\n",
    "dfp.plot(\n",
    "    figsize=(12, 10),\n",
    "    marker='.', \n",
    "    markersize=20, \n",
    "    title='',\n",
    "    xlabel='Before and After',\n",
    "    ylabel='Health expenditures (mean and 1SD error bar',\n",
    "    yerr = yerr,\n",
    "    xticks=data2['round_first'].drop_duplicates().sort_values().astype('int'))\n",
    "\n",
    "plt.legend(loc=\"upper left\")\n",
    "plt.show();\n"
   ]
  },
  {
   "cell_type": "markdown",
   "id": "0fdcf7b3",
   "metadata": {},
   "source": [
    "## Fixed Effects"
   ]
  },
  {
   "cell_type": "code",
   "execution_count": 5,
   "id": "f6a1857e",
   "metadata": {},
   "outputs": [],
   "source": [
    "data = pd.read_stata(\"https://github.com/worldbank/r-econ-visual-library/raw/master/Library/Data/autor-jole-2003.dta\")\n"
   ]
  },
  {
   "cell_type": "code",
   "execution_count": 6,
   "id": "405ac690",
   "metadata": {},
   "outputs": [],
   "source": [
    "data2 = data[data['year'] >= 79.0]\n",
    "data3 = data2[data2['year'] <= 95.0]\n",
    "data4 = data3[data3['state'] != 98.0]\n"
   ]
  },
  {
   "cell_type": "code",
   "execution_count": 7,
   "id": "f3761f30",
   "metadata": {},
   "outputs": [],
   "source": [
    "data4['year'] = pd.to_numeric(data4['year'])\n",
    "data4[\"trend\"] = data4[\"year\"]-78\n",
    "\n",
    "data4[\"state_trend\"] = data4[\"state\"]+data4[\"trend\"]\n",
    "# data4['state_trend'] = [(s,y) for s,y in zip(data4.state, data4.trend)]\n",
    "data4['annemp'] = pd.to_numeric(data4['annemp'])\n",
    "data4[\"state_year\"] = [(s,y) for s,y in zip(data4.state, data4.year)]\n",
    "# data4"
   ]
  },
  {
   "cell_type": "code",
   "execution_count": 8,
   "id": "b79a2946-6324-4f68-9e3d-52454d91a607",
   "metadata": {},
   "outputs": [],
   "source": [
    "admico_list = [\"admico_2\", \"admico_1\", \"admico0\", \"admico1\", \"admico2\", \"admico3\", \"mico4\"]"
   ]
  },
  {
   "cell_type": "code",
   "execution_count": 9,
   "id": "c2e2dff1",
   "metadata": {},
   "outputs": [],
   "source": [
    "data5 = data4[['state', 'year','state_year', 'state_trend','annemp', 'lnths','admico_2', 'admico_1', 'admico0', 'admico1', 'admico2', 'admico3', 'mico4', 'admppa_2', 'admppa_1', 'admppa0', 'admppa1', 'admppa2', 'admppa3', 'mppa4','admgfa_2','admgfa_1', 'admgfa0','admgfa1', 'admgfa2','admgfa3', 'mgfa4', 'trend']]\n",
    "data5_reset=data5.set_index(['state', 'state_trend'])\n",
    "\n",
    "formula = '''lnths ~ \n",
    "np.log(data5_reset.annemp) + + admico_2 + admico_1 + admico0 + admico1 + admico2 + admico3 + mico4 + admppa_2 + admppa_1 + admppa0 + admppa1 + admppa2 + admppa3 + mppa4 + admgfa_2 + admgfa_1  + admgfa0 + admgfa1 + admgfa2 + admgfa3 + mgfa4 - 1\n",
    "'''\n",
    "y, x_data = patsy.dmatrices(formula, data5_reset, return_type = 'dataframe')\n",
    "\n",
    "fixed = fe(y, exog = x_data, entity_effects = True, time_effects = True, drop_absorbed=True).fit(cov_type = 'clustered', cluster_entity = True)\n",
    "# fixed.summary().tables[1]"
   ]
  },
  {
   "cell_type": "code",
   "execution_count": 10,
   "id": "a0cbf406-59f7-44bb-8b43-468ca0fc2f22",
   "metadata": {},
   "outputs": [],
   "source": [
    "df_a = np.float_(pd.DataFrame(fixed.summary.tables[1].data).iloc[2:9, [1, 5, 6]]) * 100 + 7.9\n",
    "df_a\n",
    "df = pd.DataFrame(df_a, columns=['point', 'l', 'u'])\n",
    "df['admico'] = admico_list\n",
    "df['xpos'] = range(len(admico_list))\n",
    "df1 = pd.melt(df, id_vars=['point', 'admico', 'xpos'], value_vars=['l', 'u'])"
   ]
  },
  {
   "cell_type": "code",
   "execution_count": 11,
   "id": "ffe35ea1-56c3-4c61-b391-ab463a048fa7",
   "metadata": {},
   "outputs": [
    {
     "name": "stderr",
     "output_type": "stream",
     "text": [
      "C:\\Users\\Jhon\\AppData\\Local\\Temp\\ipykernel_4256\\4227953583.py:20: UserWarning: FixedFormatter should only be used together with FixedLocator\n",
      "  ax.set_xticklabels(x_lbls)\n"
     ]
    },
    {
     "data": {
      "text/plain": [
       "[<matplotlib.axis.XTick at 0x23b7d3496d0>,\n",
       " <matplotlib.axis.XTick at 0x23b7d3496a0>,\n",
       " <matplotlib.axis.XTick at 0x23b7d3561f0>,\n",
       " <matplotlib.axis.XTick at 0x23b7d321c40>,\n",
       " <matplotlib.axis.XTick at 0x23b7d321310>,\n",
       " <matplotlib.axis.XTick at 0x23b7d325a60>,\n",
       " <matplotlib.axis.XTick at 0x23b7d3217c0>]"
      ]
     },
     "execution_count": 11,
     "metadata": {},
     "output_type": "execute_result"
    },
    {
     "data": {
      "image/png": "[encoded data removed]",
      "text/plain": [
       "<Figure size 576x360 with 1 Axes>"
      ]
     },
     "metadata": {},
     "output_type": "display_data"
    }
   ],
   "source": [
    "fig = plt.figure(figsize=(8, 5), facecolor = 'white')\n",
    "ax = fig.add_axes([.1, 1, 1, 1])\n",
    "plt.scatter('xpos', 'point', data = df1, c = 'black')\n",
    "for i in admico_list:\n",
    "    ref_data = df1[df1.admico ==i]\n",
    "    plt.plot('xpos', 'value', data = ref_data, c = 'black')\n",
    "ax.spines[['top', 'right']].set_visible(False)\n",
    "\n",
    "plt.xlabel(\"\\nTime relative to adoption of implied contract exception\", size = 14)\n",
    "plt.ylabel(\"Log points\", size = 14)\n",
    "plt.axhline(0, lw = 1, c = \"black\")\n",
    "\n",
    "x_lbls = [\n",
    "    '2 Years\\n prior', '1 Year\\n prior', 'Year of\\n adoption', \n",
    "    '1 Year\\n After', '2 Years\\n After', '3 Years\\n After',\n",
    "    '4 + Years\\n After'\n",
    "]\n",
    "          \n",
    "\n",
    "ax.set_xticklabels(x_lbls)\n",
    "ax.set_xticks(range(len(x_lbls)))\n",
    "plt.show();"
   ]
  }
 ],
 "metadata": {
  "kernelspec": {
   "display_name": "Python 3.8.0 64-bit",
   "language": "python",
   "name": "python3"
  },
  "language_info": {
   "codemirror_mode": {
    "name": "ipython",
    "version": 3
   },
   "file_extension": ".py",
   "mimetype": "text/x-python",
   "name": "python",
   "nbconvert_exporter": "python",
   "pygments_lexer": "ipython3",
   "version": "3.8.0"
  },
  "vscode": {
   "interpreter": {
    "hash": "9650cb4e16cdd4a8e8e2d128bf38d875813998db22a3c986335f89e0cb4d7bb2"
   }
  }
 },
 "nbformat": 4,
 "nbformat_minor": 5
}
