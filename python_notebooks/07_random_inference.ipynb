{
 "cells": [
  {
   "cell_type": "markdown",
   "id": "522b92f9-7bb3-4982-9392-e35a26ade104",
   "metadata": {},
   "source": [
    "# Randomization Inference"
   ]
  },
  {
   "cell_type": "code",
   "execution_count": 1,
   "id": "80db51c9-829f-446e-9fe6-e129a490d155",
   "metadata": {},
   "outputs": [],
   "source": [
    "import pandas as pd, numpy as np, matplotlib.pyplot as plt\n",
    "import random\n",
    "import statsmodels.formula.api as smf\n",
    "import statsmodels.api as sm\n",
    "import math\n",
    "import warnings\n",
    "import warnings\n",
    "warnings.filterwarnings('ignore')"
   ]
  },
  {
   "cell_type": "code",
   "execution_count": 2,
   "id": "fb5ba40f-1ae2-4a27-9218-3481f15c4c33",
   "metadata": {},
   "outputs": [
    {
     "data": {
      "text/plain": [
       "(197, 98)"
      ]
     },
     "execution_count": 2,
     "metadata": {},
     "output_type": "execute_result"
    }
   ],
   "source": [
    "data = pd.read_stata(\"https://github.com/worldbank/r-econ-visual-library/raw/master/Library/Data/evaluation.dta\")\n",
    "\n",
    "analysis_data = data[(data.eligible == 1) & (data[\"round\"] == 1)]\n",
    "num_cluster = len(set(analysis_data.locality_identifier))\n",
    "num_treated_cluster = len(set(analysis_data[analysis_data.treatment_locality == 1].locality_identifier))\n",
    "num_cluster, num_treated_cluster"
   ]
  },
  {
   "cell_type": "code",
   "execution_count": 16,
   "id": "26e0ab4c-9bef-4454-bec5-6cdf6eced99c",
   "metadata": {},
   "outputs": [
    {
     "data": {
      "text/plain": [
       "Text(0.5, 0, 'Simulated point estimates \\n(N = 1000)')"
      ]
     },
     "execution_count": 16,
     "metadata": {},
     "output_type": "execute_result"
    },
    {
     "data": {
      "image/png": "[encoded data removed]",
      "text/plain": [
       "<Figure size 576x432 with 1 Axes>"
      ]
     },
     "metadata": {},
     "output_type": "display_data"
    }
   ],
   "source": [
    "random.seed(19)\n",
    "num_sim = 1000\n",
    "sim_est = []\n",
    "\n",
    "sim_data = analysis_data\n",
    "\n",
    "for i in range(num_sim):\n",
    "    \n",
    "    treated_locality_sim = random.sample(set(analysis_data.locality_identifier), num_treated_cluster)\n",
    "    \n",
    "    treat_sim = np.where(np.isin(np.array(analysis_data.locality_identifier), treated_locality_sim), 1, 0)\n",
    "    \n",
    "    sim_data['treat_sim'] = treat_sim\n",
    "    res = smf.ols(\"health_expenditures ~ treat_sim\", data = sim_data).fit()\n",
    "    # print(res.params)\n",
    "    sim_est.append(res.params[1])\n",
    "\n",
    "res = smf.ols(\"health_expenditures ~ treatment_locality\", data = analysis_data).fit()\n",
    "point_est = res.params[1]\n",
    "\n",
    "\n",
    "bins = len(np.arange(min(sim_est), max(sim_est),  .25))\n",
    "mean_res = np.mean(sim_est)\n",
    "\n",
    "## Plot elements\n",
    "fig = plt.figure(facecolor = 'white', figsize=(8, 6))\n",
    "ax = fig.add_axes([.1, 1, 1, 1])\n",
    "# Histogram\n",
    "ax.hist(sim_est, bins = bins, color=\"#2c3038\")\n",
    "# coef TReatment)locality, main data\n",
    "ax.axvline(point_est, color = \"red\")\n",
    "# mean simmulated coef\n",
    "ax.axvline(mean_res, color = \"#aaa\", linestyle = \"--\")\n",
    "# Border\n",
    "omit = ['top', 'right', 'left']\n",
    "# aesthetics\n",
    "ax.spines[omit].set_visible(False)\n",
    "ax.set_xticks(np.arange(int(point_est - .1), max(sim_est), 4))\n",
    "ax.tick_params('y', colors = 'white')\n",
    "ax.set_xlabel(f\"Simulated point estimates \\n(N = {num_sim})\", size = 12)"
   ]
  }
 ],
 "metadata": {
  "kernelspec": {
   "display_name": "Python 3 (ipykernel)",
   "language": "python",
   "name": "python3"
  },
  "language_info": {
   "codemirror_mode": {
    "name": "ipython",
    "version": 3
   },
   "file_extension": ".py",
   "mimetype": "text/x-python",
   "name": "python",
   "nbconvert_exporter": "python",
   "pygments_lexer": "ipython3",
   "version": "3.8.0"
  }
 },
 "nbformat": 4,
 "nbformat_minor": 5
}
